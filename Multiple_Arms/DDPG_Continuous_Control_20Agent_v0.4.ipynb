{
 "cells": [
  {
   "cell_type": "markdown",
   "metadata": {},
   "source": [
    "# Deep Deterministic Policy Gradients (DDPG) Continuous Control - Reacher\n",
    "\n",
    "This notebook presents a solution to the [Udacity Deep Reinforcement Learning Nanodegree](https://www.udacity.com/course/deep-reinforcement-learning-nanodegree--nd893) Project 2 - Continuous Control of the [Unity3D](https://unity3d.com/machine-learning/) [Reacher environment](https://github.com/Unity-Technologies/ml-agents/blob/master/docs/Learning-Environment-Examples.md#reacher) (agent code [here](https://github.com/Unity-Technologies/ml-agents/blob/master/UnitySDK/Assets/ML-Agents/Examples/Reacher/Scripts/ReacherAgent.cs)) where the goal is to move a double-jointed \"arm\" using four torques (two for each joint, \"shoulder\" and \"elbow\") to reach and maintain a target location.\n",
    "\n",
    "A reward of +0.01 is provided for each step that the agent's hand is in the goal location (see [ReacherGoal.cs](https://github.com/Unity-Technologies/ml-agents/blob/master/UnitySDK/Assets/ML-Agents/Examples/Reacher/Scripts/ReacherGoal.cs), line 41).\n",
    "\n",
    "### 1. Start the Environment\n",
    "\n",
    "Run the next code cell to install a few packages.  This line will take a few minutes to run!"
   ]
  },
  {
   "cell_type": "code",
   "execution_count": 4,
   "metadata": {},
   "outputs": [
    {
     "name": "stdout",
     "output_type": "stream",
     "text": [
      "\u001b[31mtensorflow 1.7.1 has requirement numpy>=1.13.3, but you'll have numpy 1.12.1 which is incompatible.\u001b[0m\r\n",
      "\u001b[31mipython 6.5.0 has requirement prompt-toolkit<2.0.0,>=1.0.15, but you'll have prompt-toolkit 2.0.10 which is incompatible.\u001b[0m\r\n"
     ]
    }
   ],
   "source": [
    "!pip -q install ./python"
   ]
  },
  {
   "cell_type": "markdown",
   "metadata": {},
   "source": [
    "Environments corresponding to both a single agent and 20 agent version of the environment are already saved in the Workspace and can be accessed at the file paths provided below.  \n",
    "\n",
    "This solution applies to the **20 agent** version."
   ]
  },
  {
   "cell_type": "code",
   "execution_count": 5,
   "metadata": {},
   "outputs": [
    {
     "name": "stderr",
     "output_type": "stream",
     "text": [
      "INFO:unityagents:\n",
      "'Academy' started successfully!\n",
      "Unity Academy name: Academy\n",
      "        Number of Brains: 1\n",
      "        Number of External Brains : 1\n",
      "        Lesson number : 0\n",
      "        Reset Parameters :\n",
      "\t\tgoal_speed -> 1.0\n",
      "\t\tgoal_size -> 5.0\n",
      "Unity brain name: ReacherBrain\n",
      "        Number of Visual Observations (per agent): 0\n",
      "        Vector Observation space type: continuous\n",
      "        Vector Observation space size (per agent): 33\n",
      "        Number of stacked Vector Observation: 1\n",
      "        Vector Action space type: continuous\n",
      "        Vector Action space size (per agent): 4\n",
      "        Vector Action descriptions: , , , \n"
     ]
    }
   ],
   "source": [
    "from unityagents import UnityEnvironment\n",
    "import numpy as np\n",
    "\n",
    "# select this option to load version 1 (with a single agent) of the environment\n",
    "#env = UnityEnvironment(file_name='/data/Reacher_One_Linux_NoVis/Reacher_One_Linux_NoVis.x86_64')\n",
    "\n",
    "# select this option to load version 2 (with 20 agents) of the environment\n",
    "env = UnityEnvironment(file_name='/data/Reacher_Linux_NoVis/Reacher.x86_64')"
   ]
  },
  {
   "cell_type": "markdown",
   "metadata": {},
   "source": [
    "Environments contain **_brains_** which are responsible for deciding the actions of their associated agents. \n",
    "\n",
    "Here we check for the first brain available, and set it as the default brain we will be controlling from Python."
   ]
  },
  {
   "cell_type": "code",
   "execution_count": 6,
   "metadata": {},
   "outputs": [
    {
     "name": "stdout",
     "output_type": "stream",
     "text": [
      "Using ReacherBrain\n"
     ]
    }
   ],
   "source": [
    "# get the default brain\n",
    "brain_name = env.brain_names[0]\n",
    "brain = env.brains[brain_name]\n",
    "print(\"Using {}\".format(brain_name))"
   ]
  },
  {
   "cell_type": "markdown",
   "metadata": {},
   "source": [
    "### 2. Examine the State and Action Spaces\n",
    "\n",
    "Run the code cell below to print some information about the environment."
   ]
  },
  {
   "cell_type": "code",
   "execution_count": 7,
   "metadata": {},
   "outputs": [
    {
     "name": "stdout",
     "output_type": "stream",
     "text": [
      "Number of agents: 20\n",
      "Size of each action: 4\n",
      "There are 20 agents. Each observes a state with length: 33\n",
      "The reshaped state vector for the first agent looks like:\n",
      "pendulumA.transform.localPosition [ 0. -4.  0.]\n",
      "pendulumA.transform.rotation      [ 1. -0. -0.]\n",
      "rbA.angularVelocity               [ -4.37113883e-08   0.00000000e+00   0.00000000e+00]\n",
      "rbA.velocity                      [ 0.  0.  0.]\n",
      "pendulumB.transform.localPosition [  0.   0. -10.]\n",
      "pendulumB.transform.rotation      [ 0.  1. -0.]\n",
      "rbB.angularVelocity               [ -0.00000000e+00  -4.37113883e-08   0.00000000e+00]\n",
      "rbB.velocity                      [ 0.  0.  0.]\n",
      "goal.transform.localPosition      [ 0.          0.          5.75471878]\n",
      "hand.transform.localPosition      [-1.          5.55726624  0.        ]\n",
      "goalSpeed                         [ 1.          0.         -0.16816485]\n"
     ]
    }
   ],
   "source": [
    "# reset the environment\n",
    "env_info = env.reset(train_mode=True)[brain_name]\n",
    "\n",
    "# number of agents\n",
    "num_agents = len(env_info.agents)\n",
    "print('Number of agents:', num_agents)\n",
    "\n",
    "# size of each action\n",
    "action_size = brain.vector_action_space_size\n",
    "print('Size of each action:', action_size)\n",
    "\n",
    "# examine the state space \n",
    "states = env_info.vector_observations\n",
    "state_size = states.shape[1]\n",
    "\n",
    "state_vector_names = [\"pendulumA.transform.localPosition\",\n",
    "\"pendulumA.transform.rotation     \",\n",
    "\"rbA.angularVelocity              \",\n",
    "\"rbA.velocity                     \",\n",
    "\"pendulumB.transform.localPosition\",\n",
    "\"pendulumB.transform.rotation     \",\n",
    "\"rbB.angularVelocity              \",\n",
    "\"rbB.velocity                     \",\n",
    "\"goal.transform.localPosition     \",\n",
    "\"hand.transform.localPosition     \",\n",
    "\"goalSpeed                        \"]\n",
    "\n",
    "print('There are {} agents. Each observes a state with length: {}'.format(states.shape[0], state_size))\n",
    "print('The reshaped state vector for the first agent looks like:')\n",
    "_ = [print(state_vector_names[index], vector3) for index, vector3 in enumerate(states[0].reshape((11, 3)))]"
   ]
  },
  {
   "cell_type": "markdown",
   "metadata": {},
   "source": [
    "### 3. Take Random Actions in the Environment\n",
    "\n",
    "In the next code cell, you will learn how to use the Python API to control the agent and receive feedback from the environment.\n",
    "\n",
    "Note that **in this coding environment, you will not be able to watch the agents while they are training**, and you should set `train_mode=True` to restart the environment."
   ]
  },
  {
   "cell_type": "code",
   "execution_count": 8,
   "metadata": {},
   "outputs": [
    {
     "name": "stdout",
     "output_type": "stream",
     "text": [
      "Total score (averaged over agents) this episode: 0.12349999723955989\n"
     ]
    }
   ],
   "source": [
    "env_info = env.reset(train_mode=True)[brain_name]      # reset the environment    \n",
    "states = env_info.vector_observations                  # get the current state (for each agent)\n",
    "scores = np.zeros(num_agents)                          # initialize the score (for each agent)\n",
    "while True:\n",
    "    actions = np.random.randn(num_agents, action_size) # select an action (for each agent)\n",
    "    actions = np.clip(actions, -1, 1)                  # all actions between -1 and 1\n",
    "    env_info = env.step(actions)[brain_name]           # send all actions to tne environment\n",
    "    next_states = env_info.vector_observations         # get next state (for each agent)\n",
    "    rewards = env_info.rewards                         # get reward (for each agent)\n",
    "    dones = env_info.local_done                        # see if episode finished\n",
    "    scores += env_info.rewards                         # update the score (for each agent)\n",
    "    states = next_states                               # roll over states to next time step\n",
    "    if np.any(dones):                                  # exit loop if episode finished\n",
    "        break\n",
    "print('Total score (averaged over agents) this episode: {}'.format(np.mean(scores)))"
   ]
  },
  {
   "cell_type": "markdown",
   "metadata": {},
   "source": [
    "### 4. Train the Agents with Deep Deterministic Policy Gradients (DDPG)\n",
    "\n",
    "Run the code cells below to train the agents. \n",
    "\n",
    "The **Actor** and **Critic** agents are based on the example in the [Udacity Deep Reinforcement Learning github repository](https://github.com/udacity/deep-reinforcement-learning) where DDPG was applied to the [BipedalWalker environment](https://github.com/udacity/deep-reinforcement-learning/tree/master/ddpg-bipedal). \n",
    "\n",
    "Modifications were made to the code to allow learning from 20 instances of the virtual arm simultaneously (hence, the **num_agents** parameter). "
   ]
  },
  {
   "cell_type": "code",
   "execution_count": 9,
   "metadata": {},
   "outputs": [],
   "source": [
    "import datetime\n",
    "import torch\n",
    "from collections import deque\n",
    "import matplotlib.pyplot as plt\n",
    "%matplotlib inline"
   ]
  },
  {
   "cell_type": "code",
   "execution_count": 10,
   "metadata": {},
   "outputs": [],
   "source": [
    "from ddpg_agent import Agents\n",
    "\n",
    "agents = Agents(state_size=state_size, \n",
    "                action_size=action_size, \n",
    "                num_agents=num_agents, \n",
    "                random_seed=0)"
   ]
  },
  {
   "cell_type": "code",
   "execution_count": 11,
   "metadata": {},
   "outputs": [],
   "source": [
    "# Actor Model Size\n",
    "Actor_HL1 = 450        # 1st Hidden layer Size\n",
    "Actor_HL2 = 450        # 2nd Hidden Layer Size\n",
    "\n",
    "# Critic Model Size\n",
    "Critic_HL1 = 250       # 1st Hidden layer Size\n",
    "Critic_HL2 = 250       # 1st Hidden layer Size\n",
    "\n",
    "BATCH_SIZE = 128        # minibatch size\n",
    "BUFFER_SIZE = int(1e5)  # replay buffer size\n",
    "GAMMA = 0.97            # discount factor\n",
    "LR_ACTOR = 1e-4         # learning rate of the actor \n",
    "LR_CRITIC = 1e-3        # learning rate of the critic\n",
    "TAU = 1e-3              # for soft update of target parameters\n",
    "WEIGHT_DECAY = 0        # L2 weight decay"
   ]
  },
  {
   "cell_type": "code",
   "execution_count": 12,
   "metadata": {},
   "outputs": [],
   "source": [
    "def ddpg(n_episodes=2000, max_t=1000):\n",
    "    scores_deque = deque(maxlen=100)\n",
    "    scores = []\n",
    "    for i_episode in range(1, n_episodes+1):\n",
    "        env_info = env.reset(train_mode=True)[brain_name]\n",
    "        state = env_info.vector_observations\n",
    "        agents.reset()\n",
    "        score = np.zeros(num_agents)\n",
    "        for t in range(max_t):\n",
    "            action = agents.act(state)\n",
    "            env_info = env.step(action)[brain_name]\n",
    "            next_state = env_info.vector_observations\n",
    "            rewards = env_info.rewards\n",
    "            dones = env_info.local_done\n",
    "            agents.step(state, action, rewards, next_state, dones)\n",
    "            state = next_state\n",
    "            score += rewards\n",
    "            if np.any(dones):\n",
    "                print('\\tSteps: ', t)\n",
    "                break \n",
    "        scores_deque.append(np.mean(score))\n",
    "        scores.append(np.mean(score))\n",
    "        print('\\rEpisode {}\\tAverage Score: {:.2f}\\tScore: {:.3f}\\t'.format(i_episode, \n",
    "                                                                          np.mean(scores_deque), \n",
    "                                                                          np.mean(score)), end=\"\")\n",
    "        average_score = np.mean(scores_deque)\n",
    "        if i_episode % 25 == 0 or average_score > 30:\n",
    "            print('\\rEpisode {}\\tAverage Score: {:.2f}'.format(i_episode, average_score))\n",
    "            torch.save(agents.actor_local.state_dict(), 'checkpoint_actor.pth')\n",
    "            torch.save(agents.critic_local.state_dict(), 'checkpoint_critic.pth') \n",
    "            if average_score > 30:\n",
    "                break\n",
    "    return scores"
   ]
  },
  {
   "cell_type": "code",
   "execution_count": 10,
   "metadata": {},
   "outputs": [
    {
     "name": "stdout",
     "output_type": "stream",
     "text": [
      "Episode 25\tAverage Score: 1.85\tScore: 4.315\t\n",
      "Episode 50\tAverage Score: 6.51\tScore: 22.354\t\n",
      "Episode 75\tAverage Score: 13.29\tScore: 31.417\t\n",
      "Episode 100\tAverage Score: 18.86\tScore: 38.346\t\n",
      "Episode 125\tAverage Score: 27.55\tScore: 37.493\t\n",
      "Episode 133\tAverage Score: 30.01\tScore: 36.333\t\n",
      "\n",
      "Total Training time = 81.2 min\n"
     ]
    }
   ],
   "source": [
    "import time\n",
    "\n",
    "start_time = time.time()                                 # Monitor Training Time\n",
    "results = ddpg(n_episodes=5000, max_t=1000)\n",
    "print(\"\\nTotal Training time = {:.1f} min\".format((time.time()-start_time)/60))"
   ]
  },
  {
   "cell_type": "markdown",
   "metadata": {},
   "source": [
    "### 5. Plotting the learning curve"
   ]
  },
  {
   "cell_type": "code",
   "execution_count": 11,
   "metadata": {},
   "outputs": [
    {
     "data": {
      "image/png": "[encoded data removed]",
      "text/plain": [
       "<matplotlib.figure.Figure at 0x7f96862cfac8>"
      ]
     },
     "metadata": {
      "needs_background": "light"
     },
     "output_type": "display_data"
    }
   ],
   "source": [
    "###\n",
    "import pandas as pd\n",
    "\n",
    "scores = results\n",
    "Target_Score = 30.0\n",
    "\n",
    "fig, ax = plt.subplots(1, 1, figsize=[10, 5])\n",
    "plt.rcParams.update({'font.size': 14})\n",
    "\n",
    "scores_rolling = pd.Series(scores).rolling(100).mean()\n",
    "ax.plot(scores, \"-\", c=\"black\", alpha=0.25)\n",
    "ax.plot(scores_rolling, \"-\", c=\"red\", linewidth=4)\n",
    "ax.set_xlabel(\"Episode\")\n",
    "ax.set_ylabel(\"Score\")\n",
    "ax.grid(which=\"major\")\n",
    "ax.axhline(Target_Score, c=\"blue\", linewidth=5, alpha=0.5)\n",
    "ax.legend([\"Score of Each Episode\", \"Moving Average of last 100 Episode\", \"Criteria\"])\n",
    "\n",
    "fig.tight_layout()\n",
    "fig.savefig(\"result_score.jpg\")"
   ]
  },
  {
   "cell_type": "code",
   "execution_count": 12,
   "metadata": {},
   "outputs": [
    {
     "data": {
      "image/png": "[encoded data removed]",
      "text/plain": [
       "<matplotlib.figure.Figure at 0x7f967d5c0c18>"
      ]
     },
     "metadata": {
      "needs_background": "light"
     },
     "output_type": "display_data"
    }
   ],
   "source": [
    "fig = plt.figure()\n",
    "ax = fig.add_subplot(111)\n",
    "plt.plot(np.arange(1, len(scores)+1), scores)\n",
    "plt.ylabel('Score')\n",
    "plt.xlabel('Episode #')\n",
    "plt.show()"
   ]
  },
  {
   "cell_type": "markdown",
   "metadata": {},
   "source": [
    "### 6. Testing the Trained Agent\n",
    " \n",
    " After traing the Agent we are going to load the wieghts for the actor and critic components of the agent, and then test this agent for one episode (max_t = 1000).\n",
    "\n"
   ]
  },
  {
   "cell_type": "code",
   "execution_count": 21,
   "metadata": {},
   "outputs": [
    {
     "name": "stdout",
     "output_type": "stream",
     "text": [
      "Total score for the Agent in this episode: 37.10149917071685\n"
     ]
    }
   ],
   "source": [
    "agent = Agents(state_size=state_size, action_size=action_size, num_agents=num_agents, random_seed=2)\n",
    "\n",
    "checkpoint_actor_file  = 'checkpoint_actor_v0.4.pth'\n",
    "checkpoint_critic_file = 'checkpoint_critic_v0.4.pth'\n",
    "\n",
    "agent.actor_local.load_state_dict(torch.load(checkpoint_actor_file))\n",
    "agent.critic_local.load_state_dict(torch.load(checkpoint_critic_file))\n",
    "\n",
    "env_info = env.reset(train_mode=False)[brain_name]     # reset the environment    \n",
    "state    = env_info.vector_observations               # get the current state (for each agent)\n",
    "#print(state)\n",
    "agent.reset()\n",
    "scores   = np.zeros(num_agents)                        # initialize the score (for each agent)\n",
    "\n",
    "for t in range(1000):\n",
    "    action = agent.act(state)\n",
    "    \n",
    "    env_info = env.step(action)[brain_name]        \n",
    "    next_state = env_info.vector_observations    \n",
    "    rewards = env_info.rewards                     \n",
    "    dones = env_info.local_done\n",
    "    \n",
    "    state = next_state\n",
    "    scores += rewards\n",
    "    \n",
    "    if np.any(dones):                                  # exit loop if episode finished\n",
    "        break \n",
    "\n",
    "print('Total score for the Agent in this episode: {}'.format(np.mean(scores)))"
   ]
  },
  {
   "cell_type": "markdown",
   "metadata": {},
   "source": [
    "When finished, you can close the environment."
   ]
  },
  {
   "cell_type": "code",
   "execution_count": null,
   "metadata": {},
   "outputs": [],
   "source": [
    "env.close()"
   ]
  }
 ],
 "metadata": {
  "kernelspec": {
   "display_name": "Python 3",
   "language": "python",
   "name": "python3"
  },
  "language_info": {
   "codemirror_mode": {
    "name": "ipython",
    "version": 3
   },
   "file_extension": ".py",
   "mimetype": "text/x-python",
   "name": "python",
   "nbconvert_exporter": "python",
   "pygments_lexer": "ipython3",
   "version": "3.6.3"
  }
 },
 "nbformat": 4,
 "nbformat_minor": 2
}
